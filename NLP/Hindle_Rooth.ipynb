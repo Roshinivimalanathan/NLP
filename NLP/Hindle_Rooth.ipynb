{
 "cells": [
  {
   "cell_type": "code",
   "execution_count": 45,
   "id": "5af74d27",
   "metadata": {},
   "outputs": [],
   "source": [
    "import pandas as pd\n",
    "import numpy as np\n",
    "import math"
   ]
  },
  {
   "cell_type": "code",
   "execution_count": 127,
   "id": "8ee64e1d",
   "metadata": {},
   "outputs": [
    {
     "data": {
      "text/html": [
       "<div>\n",
       "<style scoped>\n",
       "    .dataframe tbody tr th:only-of-type {\n",
       "        vertical-align: middle;\n",
       "    }\n",
       "\n",
       "    .dataframe tbody tr th {\n",
       "        vertical-align: top;\n",
       "    }\n",
       "\n",
       "    .dataframe thead th {\n",
       "        text-align: right;\n",
       "    }\n",
       "</style>\n",
       "<table border=\"1\" class=\"dataframe\">\n",
       "  <thead>\n",
       "    <tr style=\"text-align: right;\">\n",
       "      <th></th>\n",
       "      <th>w</th>\n",
       "      <th>c(w)</th>\n",
       "      <th>c(w,prep)</th>\n",
       "    </tr>\n",
       "  </thead>\n",
       "  <tbody>\n",
       "    <tr>\n",
       "      <th>0</th>\n",
       "      <td>end</td>\n",
       "      <td>5156</td>\n",
       "      <td>607</td>\n",
       "    </tr>\n",
       "    <tr>\n",
       "      <th>1</th>\n",
       "      <td>venture</td>\n",
       "      <td>1442</td>\n",
       "      <td>155</td>\n",
       "    </tr>\n",
       "  </tbody>\n",
       "</table>\n",
       "</div>"
      ],
      "text/plain": [
       "         w  c(w)  c(w,prep)\n",
       "0      end  5156        607\n",
       "1  venture  1442        155"
      ]
     },
     "execution_count": 127,
     "metadata": {},
     "output_type": "execute_result"
    }
   ],
   "source": [
    "data=pd.DataFrame({'w':['end','venture'],'c(w)':[cv,cn],'c(w,prep)':[cvp,cnp]})\n",
    "data"
   ]
  },
  {
   "cell_type": "markdown",
   "id": "5dbdb90d",
   "metadata": {},
   "source": [
    "(P(VAp=1|verb)xP(NAp=0|noun))/P(NAp=1|noun)"
   ]
  },
  {
   "cell_type": "code",
   "execution_count": 128,
   "id": "97182524",
   "metadata": {},
   "outputs": [],
   "source": [
    "def calc_result(df):\n",
    "    c_v=df['c(w)'][0]\n",
    "    c_vp=df['c(w,prep)'][0]\n",
    "    c_n=df['c(w)'][1]\n",
    "    c_np=df['c(w,prep)'][1]\n",
    "    prob_vp=c_vp/c_v\n",
    "    prob_np=c_np/c_n\n",
    "    prob_np1=1-prob_np\n",
    "    res1=(prob_vp*prob_np1)/prob_np\n",
    "    res=math.log2(res1)\n",
    "    if res > 0:\n",
    "        print(\"Attach the preposition with the verb\")\n",
    "    else:\n",
    "        print(\"Attach the preposition with the noun\")"
   ]
  },
  {
   "cell_type": "code",
   "execution_count": 131,
   "id": "7e288c3c",
   "metadata": {},
   "outputs": [
    {
     "name": "stdout",
     "output_type": "stream",
     "text": [
      "Attach the preposition with the noun\n"
     ]
    }
   ],
   "source": [
    "calc_result(data)"
   ]
  },
  {
   "cell_type": "code",
   "execution_count": 133,
   "id": "dffd0f02",
   "metadata": {},
   "outputs": [
    {
     "data": {
      "text/html": [
       "<div>\n",
       "<style scoped>\n",
       "    .dataframe tbody tr th:only-of-type {\n",
       "        vertical-align: middle;\n",
       "    }\n",
       "\n",
       "    .dataframe tbody tr th {\n",
       "        vertical-align: top;\n",
       "    }\n",
       "\n",
       "    .dataframe thead th {\n",
       "        text-align: right;\n",
       "    }\n",
       "</style>\n",
       "<table border=\"1\" class=\"dataframe\">\n",
       "  <thead>\n",
       "    <tr style=\"text-align: right;\">\n",
       "      <th></th>\n",
       "      <th>w</th>\n",
       "      <th>c(w)</th>\n",
       "      <th>c(w,prep)</th>\n",
       "    </tr>\n",
       "  </thead>\n",
       "  <tbody>\n",
       "    <tr>\n",
       "      <th>0</th>\n",
       "      <td>send</td>\n",
       "      <td>1742.5</td>\n",
       "      <td>86</td>\n",
       "    </tr>\n",
       "    <tr>\n",
       "      <th>1</th>\n",
       "      <td>soldiers</td>\n",
       "      <td>1478.0</td>\n",
       "      <td>1</td>\n",
       "    </tr>\n",
       "  </tbody>\n",
       "</table>\n",
       "</div>"
      ],
      "text/plain": [
       "          w    c(w)  c(w,prep)\n",
       "0      send  1742.5         86\n",
       "1  soldiers  1478.0          1"
      ]
     },
     "execution_count": 133,
     "metadata": {},
     "output_type": "execute_result"
    }
   ],
   "source": [
    "data1=pd.DataFrame({'w':['send','soldiers'],'c(w)':[1742.5,1478],'c(w,prep)':[86,1]})\n",
    "data1"
   ]
  },
  {
   "cell_type": "code",
   "execution_count": 134,
   "id": "6ef1d91a",
   "metadata": {},
   "outputs": [
    {
     "name": "stdout",
     "output_type": "stream",
     "text": [
      "Attach the preposition with the verb\n"
     ]
    }
   ],
   "source": [
    "calc_result(data1)"
   ]
  }
 ],
 "metadata": {
  "kernelspec": {
   "display_name": "Python 3",
   "language": "python",
   "name": "python3"
  },
  "language_info": {
   "codemirror_mode": {
    "name": "ipython",
    "version": 3
   },
   "file_extension": ".py",
   "mimetype": "text/x-python",
   "name": "python",
   "nbconvert_exporter": "python",
   "pygments_lexer": "ipython3",
   "version": "3.8.8"
  }
 },
 "nbformat": 4,
 "nbformat_minor": 5
}
