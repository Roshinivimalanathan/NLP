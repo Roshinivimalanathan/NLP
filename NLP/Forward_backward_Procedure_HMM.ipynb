{
 "cells": [
  {
   "cell_type": "code",
   "execution_count": 1,
   "id": "59756674",
   "metadata": {},
   "outputs": [],
   "source": [
    "import math"
   ]
  },
  {
   "cell_type": "markdown",
   "id": "7bb88829",
   "metadata": {},
   "source": [
    "# HMM"
   ]
  },
  {
   "cell_type": "code",
   "execution_count": 2,
   "id": "8ce6f772",
   "metadata": {},
   "outputs": [
    {
     "name": "stdout",
     "output_type": "stream",
     "text": [
      "Enter no. of states :2\n",
      "Enter state :cp\n",
      "Enter state :ip\n",
      "States :  ['cp', 'ip']\n"
     ]
    }
   ],
   "source": [
    "n_states=int(input(\"Enter no. of states :\"))\n",
    "states=[]\n",
    "for i in range(n_states):\n",
    "    states.append(input(\"Enter state :\"))\n",
    "print(\"States : \",states)"
   ]
  },
  {
   "cell_type": "code",
   "execution_count": 3,
   "id": "22cd84ee",
   "metadata": {},
   "outputs": [
    {
     "name": "stdout",
     "output_type": "stream",
     "text": [
      "Enter no.of entry states : 1\n",
      "Enter entry state :cp\n"
     ]
    }
   ],
   "source": [
    "n_entry=int(input(\"Enter no.of entry states : \"))\n",
    "entry_list=[]\n",
    "for i in range(n_entry):\n",
    "    entry_list.append(input(\"Enter entry state :\"))\n",
    "entry_value=1/n_entry"
   ]
  },
  {
   "cell_type": "code",
   "execution_count": 4,
   "id": "09087fe6",
   "metadata": {},
   "outputs": [
    {
     "data": {
      "text/plain": [
       "{'cp': 1.0, 'ip': 0}"
      ]
     },
     "execution_count": 4,
     "metadata": {},
     "output_type": "execute_result"
    }
   ],
   "source": [
    "start_prob={}\n",
    "for i in states:\n",
    "    if i in entry_list:\n",
    "        start_prob[i]=entry_value\n",
    "    else:\n",
    "        start_prob[i]=0\n",
    "start_prob"
   ]
  },
  {
   "cell_type": "code",
   "execution_count": 5,
   "id": "d1c1f700",
   "metadata": {},
   "outputs": [
    {
     "name": "stdout",
     "output_type": "stream",
     "text": [
      "Enter transition value from cp to cp :0.7\n",
      "Enter transition value from cp to ip :0.3\n",
      "Enter transition value from ip to cp :0.5\n",
      "Enter transition value from ip to ip :0.5\n",
      "Transition probabaility is : {'cp': {'cp': 0.7, 'ip': 0.3}, 'ip': {'cp': 0.5, 'ip': 0.5}}\n"
     ]
    }
   ],
   "source": [
    "transition_prob={}\n",
    "#transition_prob=[]\n",
    "for i in range(len(states)):\n",
    "    d={}\n",
    "    for j in range(len(states)):\n",
    "        d[states[j]]=float(input(\"Enter transition value from \"+states[i]+\" to \"+states[j]+\" :\"))\n",
    "    transition_prob[states[i]]=d\n",
    "print(\"Transition probabaility is :\",transition_prob)"
   ]
  },
  {
   "cell_type": "code",
   "execution_count": 7,
   "id": "871074ee",
   "metadata": {},
   "outputs": [
    {
     "name": "stdout",
     "output_type": "stream",
     "text": [
      "Enter no.of outcomes :3\n",
      "Enter outcome :cola\n",
      "Enter outcome :ice_t\n",
      "Enter outcome :lem\n",
      "possible outcomes are :  ['cola', 'ice_t', 'lem']\n"
     ]
    }
   ],
   "source": [
    "n_outcomes=int(input(\"Enter no.of outcomes :\"))\n",
    "outcomes=[]\n",
    "for i in range(n_outcomes):\n",
    "    outcomes.append(input(\"Enter outcome :\"))\n",
    "print(\"possible outcomes are : \",outcomes)"
   ]
  },
  {
   "cell_type": "code",
   "execution_count": 8,
   "id": "c8be854b",
   "metadata": {},
   "outputs": [
    {
     "name": "stdout",
     "output_type": "stream",
     "text": [
      "Enter emission value from cp to cola :0.6\n",
      "Enter emission value from cp to ice_t :0.1\n",
      "Enter emission value from cp to lem :0.3\n",
      "Enter emission value from ip to cola :0.1\n",
      "Enter emission value from ip to ice_t :0.7\n",
      "Enter emission value from ip to lem :0.2\n",
      "Emission probability is :  {'cp': {'cola': 0.6, 'ice_t': 0.1, 'lem': 0.3}, 'ip': {'cola': 0.1, 'ice_t': 0.7, 'lem': 0.2}}\n"
     ]
    }
   ],
   "source": [
    "emission_prob={}\n",
    "for i in range(len(states)):\n",
    "    d={}\n",
    "    for j in range(len(outcomes)):\n",
    "        d[outcomes[j]]=float(input(\"Enter emission value from \"+states[i]+\" to \"+outcomes[j]+\" :\"))\n",
    "    emission_prob[states[i]]=d\n",
    "print(\"Emission probability is : \",emission_prob)"
   ]
  },
  {
   "cell_type": "markdown",
   "id": "eb50c723",
   "metadata": {},
   "source": [
    "## Forward procedure"
   ]
  },
  {
   "cell_type": "code",
   "execution_count": 3,
   "id": "c189f41d",
   "metadata": {},
   "outputs": [],
   "source": [
    "def forward_algorithm(output_sequence, states, start_prob, transition_prob, emission_prob):\n",
    "    forward_probs = [{}]\n",
    "    for state in states:\n",
    "        forward_probs[0][state] = start_prob[state]\n",
    "    print(forward_probs)\n",
    "    for t in range(1, len(output_sequence)+1):\n",
    "        forward_probs.append({})\n",
    "        for state in states:\n",
    "            forward_probs[t][state] = sum(forward_probs[t-1][prev_state] * transition_prob[prev_state][state] *\n",
    "                                          emission_prob[prev_state][output_sequence[t-1]] for prev_state in states)\n",
    "    print(forward_probs)\n",
    "    probability = sum(forward_probs[len(output_sequence)][state] for state in states)\n",
    "    return probability"
   ]
  },
  {
   "cell_type": "code",
   "execution_count": 43,
   "id": "f7886a6d",
   "metadata": {},
   "outputs": [
    {
     "name": "stdout",
     "output_type": "stream",
     "text": [
      "Enter no.of output sequence : 3\n",
      "Enter : lem\n",
      "Enter : ice_t\n",
      "Enter : cola\n",
      "[{'cp': 1.0, 'ip': 0}]\n",
      "[{'cp': 1.0, 'ip': 0}, {'cp': 0.21, 'ip': 0.09}, {'cp': 0.0462, 'ip': 0.0378}, {'cp': 0.021293999999999993, 'ip': 0.010206}]\n",
      "\n",
      "Probability of observing  ['lem', 'ice_t', 'cola']  in forward procedure is :  0.0315\n"
     ]
    }
   ],
   "source": [
    "n_output_sequence=int(input(\"Enter no.of output sequence : \"))\n",
    "output_sequence=[]\n",
    "for i in range(n_output_sequence):\n",
    "    output_sequence.append(input(\"Enter : \"))\n",
    "probability = forward_algorithm(output_sequence, states,start_prob,transition_prob,emission_prob)\n",
    "print(\"\\nProbability of observing \", output_sequence, \" in forward procedure is : \", round(probability,4))"
   ]
  },
  {
   "cell_type": "markdown",
   "id": "925a8658",
   "metadata": {},
   "source": [
    "## Backward procedure "
   ]
  },
  {
   "cell_type": "code",
   "execution_count": 44,
   "id": "d18a8d08",
   "metadata": {},
   "outputs": [
    {
     "data": {
      "text/plain": [
       "['cola', 'ice_t', 'lem']"
      ]
     },
     "execution_count": 44,
     "metadata": {},
     "output_type": "execute_result"
    }
   ],
   "source": [
    "reverse_sequence=output_sequence[::-1]\n",
    "reverse_sequence"
   ]
  },
  {
   "cell_type": "code",
   "execution_count": 45,
   "id": "eb74f827",
   "metadata": {},
   "outputs": [],
   "source": [
    "def backward_algorithm(output_sequence,start_prob, states, transition_prob, emission_prob):\n",
    "    backward_probs = [{}]\n",
    "    for state in states:\n",
    "        backward_probs[0][state] = 1\n",
    "    print(backward_probs)\n",
    "    for t in range(1, len(output_sequence)+1):\n",
    "        backward_probs.append({})\n",
    "        for state in states:\n",
    "            backward_probs[t][state] = sum(backward_probs[t-1][prev_state] * transition_prob[state][prev_state] *\n",
    "                                          emission_prob[state][output_sequence[t-1]] for prev_state in states)\n",
    "    print(backward_probs)\n",
    "    probability = sum(start_prob[state]*backward_probs[len(output_sequence)][state] for state in states)\n",
    "    return probability"
   ]
  },
  {
   "cell_type": "code",
   "execution_count": 46,
   "id": "2eb2a7ba",
   "metadata": {},
   "outputs": [
    {
     "name": "stdout",
     "output_type": "stream",
     "text": [
      "[{'cp': 1, 'ip': 1}]\n",
      "[{'cp': 1, 'ip': 1}, {'cp': 0.6, 'ip': 0.1}, {'cp': 0.045000000000000005, 'ip': 0.245}, {'cp': 0.0315, 'ip': 0.029}]\n",
      "\n",
      "Probability of observing  ['lem', 'ice_t', 'cola']  in backward procedure is :  0.0315\n"
     ]
    }
   ],
   "source": [
    "probability = backward_algorithm(reverse_sequence,start_prob ,states,transition_prob,emission_prob)\n",
    "print(\"\\nProbability of observing \", output_sequence, \" in backward procedure is : \", round(probability,4))"
   ]
  },
  {
   "cell_type": "code",
   "execution_count": null,
   "id": "86934b5a",
   "metadata": {},
   "outputs": [],
   "source": []
  }
 ],
 "metadata": {
  "kernelspec": {
   "display_name": "Python 3 (ipykernel)",
   "language": "python",
   "name": "python3"
  },
  "language_info": {
   "codemirror_mode": {
    "name": "ipython",
    "version": 3
   },
   "file_extension": ".py",
   "mimetype": "text/x-python",
   "name": "python",
   "nbconvert_exporter": "python",
   "pygments_lexer": "ipython3",
   "version": "3.11.3"
  }
 },
 "nbformat": 4,
 "nbformat_minor": 5
}
