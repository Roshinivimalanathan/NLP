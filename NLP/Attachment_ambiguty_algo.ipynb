{
 "cells": [
  {
   "cell_type": "code",
   "execution_count": 2,
   "id": "0284abc1",
   "metadata": {},
   "outputs": [],
   "source": [
    "import pandas as pd\n",
    "import numpy as np\n",
    "import math"
   ]
  },
  {
   "cell_type": "code",
   "execution_count": 3,
   "id": "683f730b",
   "metadata": {},
   "outputs": [],
   "source": [
    "sent1=\"the show ended with a song and venture\"\n",
    "sent2=\"the venture with vento\""
   ]
  },
  {
   "cell_type": "code",
   "execution_count": 4,
   "id": "b7c8a057",
   "metadata": {},
   "outputs": [],
   "source": [
    "cnt_end=5156\n",
    "cnt_venture=1442\n",
    "cnt_end_with=607\n",
    "cnt_venture_with=155"
   ]
  },
  {
   "cell_type": "code",
   "execution_count": 5,
   "id": "854e8dbe",
   "metadata": {},
   "outputs": [],
   "source": [
    "p_VP1_end=cnt_end_with/cnt_end\n",
    "p_NP1_venture=cnt_venture_with/cnt_venture\n",
    "p_NP0_venture=1-p_NP1_venture\n"
   ]
  },
  {
   "cell_type": "code",
   "execution_count": 6,
   "id": "bb956557",
   "metadata": {},
   "outputs": [],
   "source": [
    "res=math.log2((p_VP1_end*p_NP0_venture)/p_NP1_venture)"
   ]
  },
  {
   "cell_type": "code",
   "execution_count": 7,
   "id": "1e5a1903",
   "metadata": {},
   "outputs": [
    {
     "name": "stdout",
     "output_type": "stream",
     "text": [
      "Preposition attached with Noun\n"
     ]
    }
   ],
   "source": [
    "if res<0:\n",
    "    print(\"Preposition attached with Noun\")\n",
    "elif res>0:\n",
    "    print(\"Preposition attached with Verb\")"
   ]
  },
  {
   "cell_type": "code",
   "execution_count": null,
   "id": "9f385bff",
   "metadata": {},
   "outputs": [],
   "source": []
  },
  {
   "cell_type": "code",
   "execution_count": null,
   "id": "85dfa641",
   "metadata": {},
   "outputs": [],
   "source": []
  },
  {
   "cell_type": "code",
   "execution_count": null,
   "id": "a7ecf93c",
   "metadata": {},
   "outputs": [],
   "source": []
  },
  {
   "cell_type": "code",
   "execution_count": null,
   "id": "cce5d426",
   "metadata": {},
   "outputs": [],
   "source": []
  }
 ],
 "metadata": {
  "kernelspec": {
   "display_name": "Python 3 (ipykernel)",
   "language": "python",
   "name": "python3"
  },
  "language_info": {
   "codemirror_mode": {
    "name": "ipython",
    "version": 3
   },
   "file_extension": ".py",
   "mimetype": "text/x-python",
   "name": "python",
   "nbconvert_exporter": "python",
   "pygments_lexer": "ipython3",
   "version": "3.11.3"
  }
 },
 "nbformat": 4,
 "nbformat_minor": 5
}
