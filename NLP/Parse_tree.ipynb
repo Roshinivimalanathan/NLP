{
 "cells": [
  {
   "cell_type": "code",
   "execution_count": 1,
   "id": "b40498e8",
   "metadata": {},
   "outputs": [],
   "source": [
    "import re\n",
    "from nltk.corpus import wordnet"
   ]
  },
  {
   "cell_type": "markdown",
   "id": "5ad0a7fe",
   "metadata": {},
   "source": [
    "# Word Replacement"
   ]
  },
  {
   "cell_type": "code",
   "execution_count": 2,
   "id": "ceec2d2b",
   "metadata": {},
   "outputs": [],
   "source": [
    "R_patterns = [(r'won\\'t', 'will not'),(r'can\\'t', 'cannot'),(r'i\\'m', 'i am'),(r'(\\w+)\\'ll', 'g<1> will'),(r'(\\w+)n\\'t', 'g<1> not'),(r'(\\w+)\\'ve', 'g<1> have'),(r'(\\w+)\\'s', 'g<1> is'),(r'(\\w+)\\'re', 'g<1> are'),]"
   ]
  },
  {
   "cell_type": "code",
   "execution_count": 3,
   "id": "60f74660",
   "metadata": {},
   "outputs": [],
   "source": [
    "class REReplacer(object):\n",
    "    def __init__ (self, pattern = R_patterns):\n",
    "        self.pattern = [(re.compile(regex), repl) for (regex, repl) in pattern]\n",
    "    def replace(self, text):\n",
    "        s = text\n",
    "        for (pattern, repl) in self.pattern:\n",
    "            s = re.sub(pattern, repl, s)\n",
    "        return s"
   ]
  },
  {
   "cell_type": "code",
   "execution_count": 4,
   "id": "1a89087d",
   "metadata": {},
   "outputs": [
    {
     "data": {
      "text/plain": [
       "'I will not do it'"
      ]
     },
     "execution_count": 4,
     "metadata": {},
     "output_type": "execute_result"
    }
   ],
   "source": [
    "rep_word = REReplacer()\n",
    "rep_word.replace(\"I won't do it\")"
   ]
  },
  {
   "cell_type": "markdown",
   "id": "3e753a9a",
   "metadata": {},
   "source": [
    "## Synonym replacement"
   ]
  },
  {
   "cell_type": "code",
   "execution_count": 5,
   "id": "6724b3ec",
   "metadata": {},
   "outputs": [
    {
     "data": {
      "text/plain": [
       "'birthday'"
      ]
     },
     "execution_count": 5,
     "metadata": {},
     "output_type": "execute_result"
    }
   ],
   "source": [
    "class word_syn_replacer(object):\n",
    "    def __init__(self, word_map):\n",
    "        self.word_map = word_map\n",
    "    def replace(self, word):\n",
    "        return self.word_map.get(word, word)\n",
    "rep_syn = word_syn_replacer({'bday' :'birthday'})\n",
    "rep_syn.replace('bday')"
   ]
  },
  {
   "cell_type": "markdown",
   "id": "e81df52f",
   "metadata": {},
   "source": [
    "## Antonym replacement"
   ]
  },
  {
   "cell_type": "code",
   "execution_count": 6,
   "id": "bd28cd8c",
   "metadata": {},
   "outputs": [
    {
     "data": {
      "text/plain": [
       "'beautify'"
      ]
     },
     "execution_count": 6,
     "metadata": {},
     "output_type": "execute_result"
    }
   ],
   "source": [
    "class word_antonym_replacer(object):\n",
    "    def replace(self, word, pos = None):\n",
    "        antonyms = set()\n",
    "        for syn in wordnet.synsets(word, pos = pos):\n",
    "            for lemma in syn.lemmas():\n",
    "                for antonym in lemma.antonyms():\n",
    "                    antonyms.add(antonym.name())\n",
    "        if len(antonyms) == 1:\n",
    "            return antonyms.pop()\n",
    "        else:\n",
    "            return None\n",
    "    def replace_negations(self, sent):\n",
    "        i, l = 0, len(sent)\n",
    "        words = []\n",
    "        while i < l:\n",
    "            word = sent[i]\n",
    "            if word == 'not' and i+1 < l:\n",
    "                ant = self.replace(sent[i+1])\n",
    "                if ant:\n",
    "                    words.append(ant)\n",
    "                    i += 2\n",
    "                    continue\n",
    "            words.append(word)\n",
    "            i += 1\n",
    "        return words\n",
    "\n",
    "rep_antonym = word_antonym_replacer()\n",
    "rep_antonym.replace('uglify')"
   ]
  },
  {
   "cell_type": "code",
   "execution_count": 7,
   "id": "97d60e1a",
   "metadata": {},
   "outputs": [
    {
     "data": {
      "text/plain": [
       "['Let us', 'beautify', 'our', 'country']"
      ]
     },
     "execution_count": 7,
     "metadata": {},
     "output_type": "execute_result"
    }
   ],
   "source": [
    "sentence = [\"Let us\", \"not\", \"uglify\", \"our\", \"country\"]\n",
    "rep_antonym.replace_negations(sentence)"
   ]
  },
  {
   "cell_type": "markdown",
   "id": "a0a24362",
   "metadata": {},
   "source": [
    "# Parse Tree"
   ]
  },
  {
   "cell_type": "code",
   "execution_count": 8,
   "id": "172beefb",
   "metadata": {},
   "outputs": [
    {
     "name": "stdout",
     "output_type": "stream",
     "text": [
      "(S (NP (A The) (NN sun)) (VP (V moves) (NN eastward)))\n"
     ]
    }
   ],
   "source": [
    "from nltk.tree import *\n",
    "left = Tree('NP', [Tree('A', ['The']), Tree('NN', ['sun'])])\n",
    "right = Tree('VP', [Tree('V', ['moves']), Tree('NN',['eastward'])])\n",
    "tree = Tree('S', [left, right])\n",
    "print(tree)"
   ]
  },
  {
   "cell_type": "code",
   "execution_count": 9,
   "id": "af8cce0e",
   "metadata": {},
   "outputs": [
    {
     "data": {
      "text/plain": [
       "('S', 'NP', 'VP')"
      ]
     },
     "execution_count": 9,
     "metadata": {},
     "output_type": "execute_result"
    }
   ],
   "source": [
    "tree.label(), left.label(), right.label()"
   ]
  },
  {
   "cell_type": "code",
   "execution_count": 10,
   "id": "1ee46a2f",
   "metadata": {},
   "outputs": [
    {
     "name": "stdout",
     "output_type": "stream",
     "text": [
      "\\Tree [.S\n",
      "        [.NP [.A The ] [.NN sun ] ]\n",
      "        [.VP [.V moves ] [.NN eastward ] ] ]\n"
     ]
    }
   ],
   "source": [
    "print(tree.pformat_latex_qtree())"
   ]
  },
  {
   "cell_type": "code",
   "execution_count": 11,
   "id": "5dac043f",
   "metadata": {},
   "outputs": [
    {
     "name": "stdout",
     "output_type": "stream",
     "text": [
      "             S                    \n",
      "      _______|_________            \n",
      "     NP                VP         \n",
      "  ___|___          ____|_____      \n",
      " A       NN       V          NN   \n",
      " |       |        |          |     \n",
      "The     sun     moves     eastward\n",
      "\n"
     ]
    }
   ],
   "source": [
    "tree.pretty_print()"
   ]
  },
  {
   "cell_type": "code",
   "execution_count": 12,
   "id": "2b63ad3f",
   "metadata": {},
   "outputs": [
    {
     "name": "stdout",
     "output_type": "stream",
     "text": [
      "                S                       \n",
      "      ┌─────────┴───────────┐             \n",
      "      NP                    VP          \n",
      " ┌────┴────┐          ┌─────┴──────┐      \n",
      " A         NN         V            NN   \n",
      " │         │          │            │      \n",
      "The       sun       moves       eastward\n",
      "\n"
     ]
    }
   ],
   "source": [
    "tree.pretty_print(unicodelines=True, nodedist=2)"
   ]
  },
  {
   "cell_type": "code",
   "execution_count": 13,
   "id": "ba78ffda",
   "metadata": {},
   "outputs": [
    {
     "name": "stdout",
     "output_type": "stream",
     "text": [
      "[(), (0,), (0, 0), (0, 0, 0), (0, 1), (0, 1, 0), (1,), (1, 0), (1, 0, 0), (1, 1), (1, 1, 0)]\n"
     ]
    }
   ],
   "source": [
    "print(tree.treepositions())"
   ]
  },
  {
   "cell_type": "code",
   "execution_count": 14,
   "id": "7370406d",
   "metadata": {},
   "outputs": [
    {
     "name": "stdout",
     "output_type": "stream",
     "text": [
      "sun\n"
     ]
    }
   ],
   "source": [
    "print(tree[0,1,0])"
   ]
  },
  {
   "cell_type": "code",
   "execution_count": 15,
   "id": "e14c0aef",
   "metadata": {},
   "outputs": [
    {
     "name": "stdout",
     "output_type": "stream",
     "text": [
      "(S (NP (A The) (NN sun)) (VP (V moves) (NN eastward)))\n"
     ]
    }
   ],
   "source": [
    "tree2 = Tree.fromstring('(S (NP (A The) (NN sun)) (VP(V moves) (NN eastward)))')\n",
    "print(tree2)"
   ]
  },
  {
   "cell_type": "code",
   "execution_count": 16,
   "id": "51887cc8",
   "metadata": {},
   "outputs": [
    {
     "data": {
      "text/plain": [
       "True"
      ]
     },
     "execution_count": 16,
     "metadata": {},
     "output_type": "execute_result"
    }
   ],
   "source": [
    "tree2==tree"
   ]
  },
  {
   "cell_type": "code",
   "execution_count": 17,
   "id": "235c9897",
   "metadata": {},
   "outputs": [
    {
     "name": "stdout",
     "output_type": "stream",
     "text": [
      "(S (NP (A The) (NNmoon )) (VP (V moves) (NN northward)))\n"
     ]
    },
    {
     "data": {
      "text/plain": [
       "nltk.tree.immutable.ImmutableTree"
      ]
     },
     "execution_count": 17,
     "metadata": {},
     "output_type": "execute_result"
    }
   ],
   "source": [
    "tree3 = ImmutableTree.fromstring('(S (NP (A The) (NNmoon)) (VP (V moves) (NN northward)))')\n",
    "print(tree3)\n",
    "type(tree3)"
   ]
  },
  {
   "cell_type": "code",
   "execution_count": 18,
   "id": "ecaaca49",
   "metadata": {},
   "outputs": [
    {
     "name": "stdout",
     "output_type": "stream",
     "text": [
      "              S                     \n",
      "      ________|_________             \n",
      "     NP                 VP          \n",
      "  ___|___           ____|______      \n",
      " A       NN        V           NN   \n",
      " |       |         |           |     \n",
      "The     moon     moves     northward\n",
      "\n"
     ]
    }
   ],
   "source": [
    "tree4 = Tree.fromstring('(S (NP (A The) (NN moon))(VP (V moves) (NN northward)))')\n",
    "tree4.pretty_print()"
   ]
  },
  {
   "cell_type": "code",
   "execution_count": 19,
   "id": "8ae26ce8",
   "metadata": {},
   "outputs": [
    {
     "name": "stdout",
     "output_type": "stream",
     "text": [
      "(<S>\n",
      "  (<NP> (<A>  \"The\" ) (<NN>  \"car\" ))\n",
      "  (<VP> (<V>  \"moves\" ) (<NN>  \"straight\" )))\n",
      "                     <S>                            \n",
      "          ____________|_____________                 \n",
      "        <NP>                       <VP>             \n",
      "    _____|______              ______|________        \n",
      "  <A>          <NN>         <V>             <NN>    \n",
      "   |            |            |               |       \n",
      " \"The\"        \"car\"       \"moves\"        \"straight\" \n",
      "\n"
     ]
    }
   ],
   "source": [
    "tree5 = Tree.fromstring('(S (NP (A The) (NN car)) (VP (V moves) (NN straight)))', read_node=lambda s:'<%s>'%s, read_leaf=lambda s: ' \"%s\" ' %s )\n",
    "print(tree5)\n",
    "tree5.pretty_print()"
   ]
  },
  {
   "cell_type": "markdown",
   "id": "e42e9a5b",
   "metadata": {},
   "source": [
    "## Basic Parts of Speech (POS) tagging"
   ]
  },
  {
   "cell_type": "code",
   "execution_count": 28,
   "id": "8538c8ff",
   "metadata": {},
   "outputs": [
    {
     "name": "stdout",
     "output_type": "stream",
     "text": [
      "[('I', 'PRP'), ('am', 'VBP'), ('going', 'VBG'), ('to', 'TO'), ('school', 'NN')]\n"
     ]
    }
   ],
   "source": [
    "import nltk\n",
    "from nltk import word_tokenize\n",
    "sentence = \"I am going to school\"\n",
    "print (nltk.pos_tag(word_tokenize(sentence)))"
   ]
  },
  {
   "cell_type": "markdown",
   "id": "1a073946",
   "metadata": {},
   "source": [
    "## Named Entity Recognition"
   ]
  },
  {
   "cell_type": "code",
   "execution_count": 22,
   "id": "bccdc614",
   "metadata": {},
   "outputs": [
    {
     "name": "stderr",
     "output_type": "stream",
     "text": [
      "[nltk_data] Downloading package punkt to C:\\Users\\Shahana\n",
      "[nltk_data]     S\\AppData\\Roaming\\nltk_data...\n",
      "[nltk_data]   Package punkt is already up-to-date!\n",
      "[nltk_data] Downloading package maxent_ne_chunker to C:\\Users\\Shahana\n",
      "[nltk_data]     S\\AppData\\Roaming\\nltk_data...\n",
      "[nltk_data]   Unzipping chunkers\\maxent_ne_chunker.zip.\n",
      "[nltk_data] Downloading package words to C:\\Users\\Shahana\n",
      "[nltk_data]     S\\AppData\\Roaming\\nltk_data...\n",
      "[nltk_data]   Unzipping corpora\\words.zip.\n",
      "[nltk_data] Downloading package averaged_perceptron_tagger to\n",
      "[nltk_data]     C:\\Users\\Shahana S\\AppData\\Roaming\\nltk_data...\n",
      "[nltk_data]   Unzipping taggers\\averaged_perceptron_tagger.zip.\n"
     ]
    },
    {
     "data": {
      "text/plain": [
       "True"
      ]
     },
     "execution_count": 22,
     "metadata": {},
     "output_type": "execute_result"
    }
   ],
   "source": [
    "import nltk\n",
    "from nltk import word_tokenize, pos_tag, ne_chunk\n",
    "nltk.download('punkt')\n",
    "nltk.download('maxent_ne_chunker')\n",
    "nltk.download('words')\n",
    "nltk.download('averaged_perceptron_tagger')"
   ]
  },
  {
   "cell_type": "code",
   "execution_count": 23,
   "id": "3328d24c",
   "metadata": {},
   "outputs": [],
   "source": [
    "text = \"Mark Zuckerberg is one of the founders of Facebook, a company from the United States\""
   ]
  },
  {
   "cell_type": "code",
   "execution_count": 24,
   "id": "c2654915",
   "metadata": {},
   "outputs": [],
   "source": [
    "# Tokenize the text\n",
    "words = word_tokenize(text)"
   ]
  },
  {
   "cell_type": "code",
   "execution_count": 25,
   "id": "3422df42",
   "metadata": {},
   "outputs": [
    {
     "data": {
      "text/plain": [
       "[('Mark', 'NNP'),\n",
       " ('Zuckerberg', 'NNP'),\n",
       " ('is', 'VBZ'),\n",
       " ('one', 'CD'),\n",
       " ('of', 'IN'),\n",
       " ('the', 'DT'),\n",
       " ('founders', 'NNS'),\n",
       " ('of', 'IN'),\n",
       " ('Facebook', 'NNP'),\n",
       " (',', ','),\n",
       " ('a', 'DT'),\n",
       " ('company', 'NN'),\n",
       " ('from', 'IN'),\n",
       " ('the', 'DT'),\n",
       " ('United', 'NNP'),\n",
       " ('States', 'NNPS')]"
      ]
     },
     "execution_count": 25,
     "metadata": {},
     "output_type": "execute_result"
    }
   ],
   "source": [
    "tags = pos_tag(words)\n",
    "tags"
   ]
  },
  {
   "cell_type": "code",
   "execution_count": 29,
   "id": "f4dad4f8",
   "metadata": {},
   "outputs": [
    {
     "ename": "ModuleNotFoundError",
     "evalue": "No module named 'svgling'",
     "output_type": "error",
     "traceback": [
      "\u001b[1;31m---------------------------------------------------------------------------\u001b[0m",
      "\u001b[1;31mModuleNotFoundError\u001b[0m                       Traceback (most recent call last)",
      "File \u001b[1;32m~\\anaconda3\\Lib\\site-packages\\IPython\\core\\formatters.py:344\u001b[0m, in \u001b[0;36mBaseFormatter.__call__\u001b[1;34m(self, obj)\u001b[0m\n\u001b[0;32m    342\u001b[0m     method \u001b[38;5;241m=\u001b[39m get_real_method(obj, \u001b[38;5;28mself\u001b[39m\u001b[38;5;241m.\u001b[39mprint_method)\n\u001b[0;32m    343\u001b[0m     \u001b[38;5;28;01mif\u001b[39;00m method \u001b[38;5;129;01mis\u001b[39;00m \u001b[38;5;129;01mnot\u001b[39;00m \u001b[38;5;28;01mNone\u001b[39;00m:\n\u001b[1;32m--> 344\u001b[0m         \u001b[38;5;28;01mreturn\u001b[39;00m method()\n\u001b[0;32m    345\u001b[0m     \u001b[38;5;28;01mreturn\u001b[39;00m \u001b[38;5;28;01mNone\u001b[39;00m\n\u001b[0;32m    346\u001b[0m \u001b[38;5;28;01melse\u001b[39;00m:\n",
      "File \u001b[1;32m~\\anaconda3\\Lib\\site-packages\\nltk\\tree\\tree.py:783\u001b[0m, in \u001b[0;36mTree._repr_svg_\u001b[1;34m(self)\u001b[0m\n\u001b[0;32m    782\u001b[0m \u001b[38;5;28;01mdef\u001b[39;00m \u001b[38;5;21m_repr_svg_\u001b[39m(\u001b[38;5;28mself\u001b[39m):\n\u001b[1;32m--> 783\u001b[0m     \u001b[38;5;28;01mfrom\u001b[39;00m \u001b[38;5;21;01msvgling\u001b[39;00m \u001b[38;5;28;01mimport\u001b[39;00m draw_tree\n\u001b[0;32m    785\u001b[0m     \u001b[38;5;28;01mreturn\u001b[39;00m draw_tree(\u001b[38;5;28mself\u001b[39m)\u001b[38;5;241m.\u001b[39m_repr_svg_()\n",
      "\u001b[1;31mModuleNotFoundError\u001b[0m: No module named 'svgling'"
     ]
    },
    {
     "data": {
      "text/plain": [
       "Tree('S', [Tree('PERSON', [('Mark', 'NNP')]), Tree('ORGANIZATION', [('Zuckerberg', 'NNP')]), ('is', 'VBZ'), ('one', 'CD'), ('of', 'IN'), ('the', 'DT'), ('founders', 'NNS'), ('of', 'IN'), Tree('GPE', [('Facebook', 'NNP')]), (',', ','), ('a', 'DT'), ('company', 'NN'), ('from', 'IN'), ('the', 'DT'), Tree('GPE', [('United', 'NNP'), ('States', 'NNPS')])])"
      ]
     },
     "execution_count": 29,
     "metadata": {},
     "output_type": "execute_result"
    }
   ],
   "source": [
    "ner_tags = ne_chunk(tags)\n",
    "ner_tags"
   ]
  },
  {
   "cell_type": "code",
   "execution_count": 27,
   "id": "278fcaea",
   "metadata": {},
   "outputs": [
    {
     "name": "stdout",
     "output_type": "stream",
     "text": [
      "Entity: Mark, Label: PERSON\n",
      "Entity: Zuckerberg, Label: ORGANIZATION\n",
      "Entity: Facebook, Label: GPE\n",
      "Entity: United States, Label: GPE\n"
     ]
    }
   ],
   "source": [
    "for entity in ner_tags:\n",
    "    if isinstance(entity, nltk.Tree):\n",
    "        entity_words = [word for word, tag in entity.leaves()]\n",
    "        entity_name = \" \".join(entity_words)\n",
    "        entity_label = entity.label()\n",
    "        print(f\"Entity: {entity_name}, Label: {entity_label}\")"
   ]
  },
  {
   "cell_type": "code",
   "execution_count": null,
   "id": "e65b6142",
   "metadata": {},
   "outputs": [],
   "source": []
  }
 ],
 "metadata": {
  "kernelspec": {
   "display_name": "Python 3 (ipykernel)",
   "language": "python",
   "name": "python3"
  },
  "language_info": {
   "codemirror_mode": {
    "name": "ipython",
    "version": 3
   },
   "file_extension": ".py",
   "mimetype": "text/x-python",
   "name": "python",
   "nbconvert_exporter": "python",
   "pygments_lexer": "ipython3",
   "version": "3.11.3"
  }
 },
 "nbformat": 4,
 "nbformat_minor": 5
}
