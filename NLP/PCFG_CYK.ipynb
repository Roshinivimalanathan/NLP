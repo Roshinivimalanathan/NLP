{
 "cells": [
  {
   "cell_type": "markdown",
   "id": "5aad1848",
   "metadata": {},
   "source": [
    "# PCFG using CYK algorithm"
   ]
  },
  {
   "cell_type": "code",
   "execution_count": null,
   "id": "58646934",
   "metadata": {},
   "outputs": [],
   "source": []
  },
  {
   "cell_type": "code",
   "execution_count": null,
   "id": "a2dfb08b",
   "metadata": {},
   "outputs": [],
   "source": []
  },
  {
   "cell_type": "code",
   "execution_count": 43,
   "id": "449e61c3",
   "metadata": {},
   "outputs": [
    {
     "name": "stdout",
     "output_type": "stream",
     "text": [
      "Grammar with 12 productions (start state = S)\n",
      "    S -> NP VP [1.0]\n",
      "    VP -> V NP [0.7]\n",
      "    VP -> VP PP [0.3]\n",
      "    NP -> NP PP [0.4]\n",
      "    NP -> 'astronomers' [0.1]\n",
      "    NP -> 'ears' [0.18]\n",
      "    NP -> 'saw' [0.04]\n",
      "    NP -> 'stars' [0.18]\n",
      "    NP -> 'telescopes' [0.1]\n",
      "    P -> 'with' [1.0]\n",
      "    V -> 'saw' [1.0]\n",
      "    PP -> P NP [1.0]\n"
     ]
    }
   ],
   "source": [
    "from nltk import PCFG\n",
    "from nltk.tree import *\n",
    "# Example PCFG\n",
    "grammar = PCFG.fromstring(\"\"\"\n",
    "    S -> NP VP [1.0]\n",
    "    VP -> V NP [0.7] | VP PP [0.3]\n",
    "    NP -> NP PP [0.4] | \"astronomers\" [0.1] | \"ears\" [0.18] | \"saw\" [0.04] | \"stars\" [0.18] | \"telescopes\" [0.1]\n",
    "    P -> \"with\" [1.0]\n",
    "    V -> \"saw\" [1.0]\n",
    "    PP -> P NP [1.0]\n",
    "\"\"\")\n",
    "\n",
    "print(grammar)"
   ]
  },
  {
   "cell_type": "code",
   "execution_count": 44,
   "id": "ff6a57ac",
   "metadata": {},
   "outputs": [
    {
     "name": "stdout",
     "output_type": "stream",
     "text": [
      "\n",
      "Parse Tree :  (S\n",
      "  (NP astronomers)\n",
      "  (VP (V saw) (NP (NP stars) (PP (P with) (NP ears))))) (p=0.0009072)\n",
      "                  S                    \n",
      "      ____________|____                 \n",
      "     |                 VP              \n",
      "     |        _________|___             \n",
      "     |       |             NP          \n",
      "     |       |     ________|____        \n",
      "     |       |    |             PP     \n",
      "     |       |    |         ____|___    \n",
      "     NP      V    NP       P        NP \n",
      "     |       |    |        |        |   \n",
      "astronomers saw stars     with     ears\n",
      "\n",
      "probability : 0.0009071999999999999\n",
      "\n",
      "Parse Tree :  (S\n",
      "  (NP astronomers)\n",
      "  (VP (VP (V saw) (NP stars)) (PP (P with) (NP ears)))) (p=0.0006804)\n",
      "                      S                    \n",
      "      ________________|____                 \n",
      "     |                     VP              \n",
      "     |            _________|________        \n",
      "     |           VP                 PP     \n",
      "     |        ___|____          ____|___    \n",
      "     NP      V        NP       P        NP \n",
      "     |       |        |        |        |   \n",
      "astronomers saw     stars     with     ears\n",
      "\n",
      "probability : 0.0006804000000000001\n",
      "\n",
      "Total probability : 0.0015876\n"
     ]
    }
   ],
   "source": [
    "parser=nltk.parse.pchart.InsideChartParser(grammar)\n",
    "tot_prob=0.0\n",
    "for tree in parser.parse(sentence.split()):\n",
    "    print(\"\\nParse Tree : \",tree)\n",
    "    st=\"\"\n",
    "    prob=tree.prob()\n",
    "    tot_prob+=prob\n",
    "    st+=str(tree)\n",
    "    st.replace(\"\\n\",\"\")\n",
    "    tree4 = Tree.fromstring(\" \".join(st.split()[:len(st.split())-1]))\n",
    "    #tree4=Tree.fromstring(st)\n",
    "    tree4.pretty_print()\n",
    "    print(\"probability :\",prob)\n",
    "print(\"\\nTotal probability :\",tot_prob)"
   ]
  },
  {
   "cell_type": "code",
   "execution_count": null,
   "id": "2951ea4b",
   "metadata": {},
   "outputs": [],
   "source": []
  }
 ],
 "metadata": {
  "kernelspec": {
   "display_name": "Python 3",
   "language": "python",
   "name": "python3"
  },
  "language_info": {
   "codemirror_mode": {
    "name": "ipython",
    "version": 3
   },
   "file_extension": ".py",
   "mimetype": "text/x-python",
   "name": "python",
   "nbconvert_exporter": "python",
   "pygments_lexer": "ipython3",
   "version": "3.8.8"
  }
 },
 "nbformat": 4,
 "nbformat_minor": 5
}
