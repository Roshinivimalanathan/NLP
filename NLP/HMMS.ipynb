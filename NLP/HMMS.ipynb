{
 "cells": [
  {
   "cell_type": "code",
   "execution_count": 5,
   "id": "1552e2e7",
   "metadata": {},
   "outputs": [],
   "source": [
    "import numpy as np"
   ]
  },
  {
   "cell_type": "code",
   "execution_count": 3,
   "id": "a09a47e8",
   "metadata": {},
   "outputs": [],
   "source": [
    "class HMM:\n",
    "    def __init__(self, A, B, pi):\n",
    "        self.A=A\n",
    "        self.B=B\n",
    "        self.pi=pi\n",
    "\n",
    "    def forward(self, obs_seq):\n",
    "        T = len(obs_seq)\n",
    "        N = self.A.shape[0]\n",
    "        alpha = np.zeros((N, T))\n",
    "        alpha[:, 0] = self.pi * self.B[:, obs_seq[0]]\n",
    "        for t in range(1, T):\n",
    "            for j in range(N):\n",
    "                alpha[j, t] = np.sum(alpha[:, t-1] * self.A[:, j]) * self.B[j, obs_seq[t]]\n",
    "        return alpha\n",
    "\n",
    "    def backward(self, obs_seq):\n",
    "        T = len(obs_seq)\n",
    "        N = self.A.shape[0]\n",
    "        beta = np.zeros((N, T))\n",
    "        beta[:, -1] = 1\n",
    "        for t in range(T-2, -1, -1):\n",
    "            for i in range(N):\n",
    "                beta[i, t] = np.sum(self.A[i, :] * self.B[:, obs_seq[t+1]] * beta[:, t+1])\n",
    "        return beta\n",
    "\n",
    "    def sequence_probability(self, obs_seq):        \n",
    "        alpha = self.forward(obs_seq)\n",
    "        seq_prob = np.sum(alpha[:, -1])\n",
    "        return seq_prob"
   ]
  },
  {
   "cell_type": "code",
   "execution_count": 6,
   "id": "d3c35fbc",
   "metadata": {},
   "outputs": [],
   "source": [
    "A = np.array([[0.7, 0.3], [0.5, 0.5]]) \n",
    "B = np.array([[0.6, 0.1, 0.3], [0.1, 0.7, 0.2]]) \n",
    "pi = np.array([1.0, 0.0])"
   ]
  },
  {
   "cell_type": "code",
   "execution_count": 7,
   "id": "59f7e25f",
   "metadata": {},
   "outputs": [
    {
     "name": "stdout",
     "output_type": "stream",
     "text": [
      "Probability of the observation sequence (forward algorithm): 0.0315\n",
      "Probability of the observation sequence (backward algorithm): 0.0315\n"
     ]
    }
   ],
   "source": [
    "hmm = HMM(A, B, pi)\n",
    "obs_seq = [2, 1, 0]\n",
    "seq_prob_forward = hmm.sequence_probability(obs_seq)\n",
    "print(\"Probability of the observation sequence (forward algorithm):\", seq_prob_forward)\n",
    "seq_prob_backward = hmm.sequence_probability(obs_seq)\n",
    "print(\"Probability of the observation sequence (backward algorithm):\", seq_prob_backward)"
   ]
  }
 ],
 "metadata": {
  "kernelspec": {
   "display_name": "Python 3",
   "language": "python",
   "name": "python3"
  },
  "language_info": {
   "codemirror_mode": {
    "name": "ipython",
    "version": 3
   },
   "file_extension": ".py",
   "mimetype": "text/x-python",
   "name": "python",
   "nbconvert_exporter": "python",
   "pygments_lexer": "ipython3",
   "version": "3.8.8"
  }
 },
 "nbformat": 4,
 "nbformat_minor": 5
}
