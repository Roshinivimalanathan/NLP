{
 "cells": [
  {
   "cell_type": "code",
   "execution_count": 1,
   "id": "59756674",
   "metadata": {},
   "outputs": [],
   "source": [
    "import math"
   ]
  },
  {
   "cell_type": "code",
   "execution_count": 2,
   "id": "8ce6f772",
   "metadata": {},
   "outputs": [
    {
     "name": "stdout",
     "output_type": "stream",
     "text": [
      "Enter no. of states :2\n",
      "Enter state :cp\n",
      "Enter state :ip\n",
      "States :  ['cp', 'ip']\n"
     ]
    }
   ],
   "source": [
    "n_states=int(input(\"Enter no. of states :\"))\n",
    "states=[]\n",
    "for i in range(n_states):\n",
    "    states.append(input(\"Enter state :\"))\n",
    "print(\"States : \",states)"
   ]
  },
  {
   "cell_type": "code",
   "execution_count": 3,
   "id": "22cd84ee",
   "metadata": {},
   "outputs": [
    {
     "name": "stdout",
     "output_type": "stream",
     "text": [
      "Enter no.of entry states : 1\n",
      "Enter entry state :cp\n"
     ]
    }
   ],
   "source": [
    "n_entry=int(input(\"Enter no.of entry states : \"))\n",
    "entry_list=[]\n",
    "for i in range(n_entry):\n",
    "    entry_list.append(input(\"Enter entry state :\"))\n",
    "entry_value=1/n_entry"
   ]
  },
  {
   "cell_type": "code",
   "execution_count": 4,
   "id": "09087fe6",
   "metadata": {},
   "outputs": [
    {
     "data": {
      "text/plain": [
       "{'cp': 1.0, 'ip': 0}"
      ]
     },
     "execution_count": 4,
     "metadata": {},
     "output_type": "execute_result"
    }
   ],
   "source": [
    "start_prob={}\n",
    "for i in states:\n",
    "    if i in entry_list:\n",
    "        start_prob[i]=entry_value\n",
    "    else:\n",
    "        start_prob[i]=0\n",
    "start_prob"
   ]
  },
  {
   "cell_type": "code",
   "execution_count": 38,
   "id": "d1c1f700",
   "metadata": {},
   "outputs": [
    {
     "name": "stdout",
     "output_type": "stream",
     "text": [
      "Enter transition value from cp to cp :0.7\n",
      "Enter transition value from cp to ip :0.3\n",
      "Enter transition value from ip to cp :0.5\n",
      "Enter transition value from ip to ip :0.5\n",
      "Transition probabaility is : {'cp': {'cp': 0.7, 'ip': 0.3}, 'ip': {'cp': 0.5, 'ip': 0.5}}\n"
     ]
    }
   ],
   "source": [
    "transition_prob={}\n",
    "#transition_prob=[]\n",
    "for i in range(len(states)):\n",
    "    d={}\n",
    "    for j in range(len(states)):\n",
    "        d[states[j]]=float(input(\"Enter transition value from \"+states[i]+\" to \"+states[j]+\" :\"))\n",
    "    transition_prob[states[i]]=d\n",
    "print(\"Transition probabaility is :\",transition_prob)"
   ]
  },
  {
   "cell_type": "code",
   "execution_count": 39,
   "id": "871074ee",
   "metadata": {},
   "outputs": [
    {
     "name": "stdout",
     "output_type": "stream",
     "text": [
      "Enter no.of outcomes :3\n",
      "Enter outcome :cola\n",
      "Enter outcome :ice_t\n",
      "Enter outcome :lem\n",
      "possible outcomes are :  ['cola', 'ice_t', 'lem']\n"
     ]
    }
   ],
   "source": [
    "n_outcomes=int(input(\"Enter no.of outcomes :\"))\n",
    "outcomes=[]\n",
    "for i in range(n_outcomes):\n",
    "    outcomes.append(input(\"Enter outcome :\"))\n",
    "print(\"possible outcomes are : \",outcomes)"
   ]
  },
  {
   "cell_type": "code",
   "execution_count": 40,
   "id": "c8be854b",
   "metadata": {},
   "outputs": [
    {
     "name": "stdout",
     "output_type": "stream",
     "text": [
      "Enter emission value from cp to cola :0.6\n",
      "Enter emission value from cp to ice_t :0.1\n",
      "Enter emission value from cp to lem :0.3\n",
      "Enter emission value from ip to cola :0.1\n",
      "Enter emission value from ip to ice_t :0.7\n",
      "Enter emission value from ip to lem :0.2\n",
      "Emission probability is :  {'cp': {'cola': 0.6, 'ice_t': 0.1, 'lem': 0.3}, 'ip': {'cola': 0.1, 'ice_t': 0.7, 'lem': 0.2}}\n"
     ]
    }
   ],
   "source": [
    "emission_prob={}\n",
    "#transition_prob=[]\n",
    "for i in range(len(states)):\n",
    "    d={}\n",
    "    for j in range(len(outcomes)):\n",
    "        d[outcomes[j]]=float(input(\"Enter emission value from \"+states[i]+\" to \"+outcomes[j]+\" :\"))\n",
    "    emission_prob[states[i]]=d\n",
    "print(\"Emission probability is : \",emission_prob)"
   ]
  },
  {
   "cell_type": "code",
   "execution_count": 58,
   "id": "1928f407",
   "metadata": {},
   "outputs": [],
   "source": [
    "def viterbi_algorithm(output_sequence, states, start_prob, transition_prob, emission_prob):\n",
    "    forward_probs = [{}]\n",
    "    si_cp=[]\n",
    "    si_ip=[]\n",
    "    best_sequence=[]\n",
    "    for state in states:\n",
    "        forward_probs[0][state] = start_prob[state]\n",
    "        if state==\"cp\":\n",
    "            si_cp.append(start_prob[state])\n",
    "        else:\n",
    "            si_ip.append(start_prob[state])\n",
    "    print(\"$cp(1) : \",si_cp[0])\n",
    "    print(\"$ip(1) : \",si_ip[0])\n",
    "    for t in range(1, len(output_sequence)+1):\n",
    "        forward_probs.append({})\n",
    "        for state in states:\n",
    "            l=[]\n",
    "            for prev_state in states:\n",
    "                res=(forward_probs[t-1][prev_state] * transition_prob[prev_state][state] *\n",
    "                                          emission_prob[prev_state][output_sequence[t-1]])\n",
    "                l.append(res)\n",
    "            print(\"$\"+state+\"(\"+str(t+1)+\") : \",l)\n",
    "            forward_probs[t][state]=max(l)\n",
    "            if state==\"cp\":\n",
    "                si_cp.append(max(l))\n",
    "            else:\n",
    "                si_ip.append(max(l))\n",
    "    print(\"Forward Probabilities : \",forward_probs)\n",
    "    print(\"si_CP : \",si_cp)\n",
    "    print(\"si_IP : \",si_ip)\n",
    "    for i in  range(1,len(si_cp)):\n",
    "        if si_cp[i]>si_ip[i]:\n",
    "            best_sequence.append(\"cp\")\n",
    "        else:\n",
    "            best_sequence.append(\"ip\")\n",
    "        if i==len(si_cp)-1:\n",
    "            if si_cp[i]>si_ip[i]:\n",
    "                best_sequence.append(\"cp\")\n",
    "            else:\n",
    "                best_sequence.append(\"ip\")\n",
    "    \n",
    "    return best_sequence"
   ]
  },
  {
   "cell_type": "code",
   "execution_count": 59,
   "id": "f7886a6d",
   "metadata": {},
   "outputs": [
    {
     "name": "stdout",
     "output_type": "stream",
     "text": [
      "Enter no.of output sequence : 3\n",
      "Enter : lem\n",
      "Enter : ice_t\n",
      "Enter : cola\n",
      "$cp(1) :  1.0\n",
      "$ip(1) :  0\n",
      "$cp(2) :  [0.21, 0.0]\n",
      "$ip(2) :  [0.09, 0.0]\n",
      "$cp(3) :  [0.0147, 0.0315]\n",
      "$ip(3) :  [0.0063, 0.0315]\n",
      "$cp(4) :  [0.01323, 0.001575]\n",
      "$ip(4) :  [0.00567, 0.001575]\n",
      "Forward Probabilities :  [{'cp': 1.0, 'ip': 0}, {'cp': 0.21, 'ip': 0.09}, {'cp': 0.0315, 'ip': 0.0315}, {'cp': 0.01323, 'ip': 0.00567}]\n",
      "si_CP :  [1.0, 0.21, 0.0315, 0.01323]\n",
      "si_IP :  [0, 0.09, 0.0315, 0.00567]\n",
      "Best_sequence :  ['cp', 'ip', 'cp', 'cp']\n"
     ]
    }
   ],
   "source": [
    "n_output_sequence=int(input(\"Enter no.of output sequence : \"))\n",
    "output_sequence=[]\n",
    "for i in range(n_output_sequence):\n",
    "    output_sequence.append(input(\"Enter : \"))\n",
    "path = viterbi_algorithm(output_sequence, states,start_prob,transition_prob,emission_prob)\n",
    "print(\"Best_sequence : \",path)"
   ]
  },
  {
   "cell_type": "code",
   "execution_count": null,
   "id": "928393bb",
   "metadata": {},
   "outputs": [],
   "source": []
  }
 ],
 "metadata": {
  "kernelspec": {
   "display_name": "Python 3 (ipykernel)",
   "language": "python",
   "name": "python3"
  },
  "language_info": {
   "codemirror_mode": {
    "name": "ipython",
    "version": 3
   },
   "file_extension": ".py",
   "mimetype": "text/x-python",
   "name": "python",
   "nbconvert_exporter": "python",
   "pygments_lexer": "ipython3",
   "version": "3.11.3"
  }
 },
 "nbformat": 4,
 "nbformat_minor": 5
}
