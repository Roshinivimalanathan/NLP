{
 "cells": [
  {
   "cell_type": "code",
   "execution_count": 1,
   "id": "cd31f9aa",
   "metadata": {},
   "outputs": [],
   "source": [
    "import nltk\n",
    "import numpy as np\n",
    "import pandas as pd\n"
   ]
  },
  {
   "cell_type": "markdown",
   "id": "c9738259",
   "metadata": {},
   "source": [
    "## Reading contents from text file"
   ]
  },
  {
   "cell_type": "code",
   "execution_count": 2,
   "id": "a522bb04",
   "metadata": {},
   "outputs": [
    {
     "data": {
      "text/plain": [
       "\"Lorem Ipsum is simply dummy text of the printing and typesetting industry. Lorem Ipsum has been the industry's standard dummy text ever since the 1500s, when an unknown printer took a galley of type and scrambled it to make a type specimen book. It has survived not only five centuries, but also the leap into electronic typesetting, remaining essentially unchanged. It was popularised in the 1960s with the release of Letraset sheets containing Lorem Ipsum passages, and more recently with desktop publishing software like Aldus PageMaker including versions of Lorem Ipsum.It is a long established fact that a reader will be distracted by the readable content of a page when looking at its layout. The point of using Lorem Ipsum is that it has a more-or-less normal distribution of letters, as opposed to using 'Content here, content here', making it look like readable English. Many desktop publishing packages and web page editors now use Lorem Ipsum as their default model text, and a search for 'lorem ipsum' will uncover many web sites still in their infancy. Various versions have evolved over the years, sometimes by accident, sometimes on purpose (injected humour and the like).There are many variations of passages of Lorem Ipsum available, but the majority have suffered alteration in some form, by injected humour, or randomised words which don't look even slightly believable. If you are going to use a passage of Lorem Ipsum, you need to be sure there isn't anything embarrassing hidden in the middle of text. All the Lorem Ipsum generators on the Internet tend to repeat predefined chunks as necessary, making this the first true generator on the Internet. It uses a dictionary of over 200 Latin words, combined with a handful of model sentence structures, to generate Lorem Ipsum which looks reasonable. The generated Lorem Ipsum is therefore always free from repetition, injected humour, or non-characteristic words etc.\""
      ]
     },
     "execution_count": 2,
     "metadata": {},
     "output_type": "execute_result"
    }
   ],
   "source": [
    "with open(\"sample.txt\",'r') as obj:\n",
    "    text=obj.read()\n",
    "text"
   ]
  },
  {
   "cell_type": "markdown",
   "id": "3d6fe8f4",
   "metadata": {},
   "source": [
    "## Reading contents from pdf"
   ]
  },
  {
   "cell_type": "code",
   "execution_count": 4,
   "id": "3d830433",
   "metadata": {},
   "outputs": [
    {
     "name": "stdout",
     "output_type": "stream",
     "text": [
      "Collecting PyPDF2\n",
      "  Downloading pypdf2-3.0.1-py3-none-any.whl (232 kB)\n",
      "                                              0.0/232.6 kB ? eta -:--:--\n",
      "     -----                                   30.7/232.6 kB 1.3 MB/s eta 0:00:01\n",
      "     ---------                             61.4/232.6 kB 648.1 kB/s eta 0:00:01\n",
      "     --------------                        92.2/232.6 kB 581.0 kB/s eta 0:00:01\n",
      "     ----------------------               143.4/232.6 kB 847.9 kB/s eta 0:00:01\n",
      "     --------------------------           174.1/232.6 kB 748.1 kB/s eta 0:00:01\n",
      "     ----------------------------------   225.3/232.6 kB 762.6 kB/s eta 0:00:01\n",
      "     ----------------------------------   225.3/232.6 kB 762.6 kB/s eta 0:00:01\n",
      "     ----------------------------------   225.3/232.6 kB 762.6 kB/s eta 0:00:01\n",
      "     ------------------------------------ 232.6/232.6 kB 568.6 kB/s eta 0:00:00\n",
      "Installing collected packages: PyPDF2\n",
      "Successfully installed PyPDF2-3.0.1\n",
      "Note: you may need to restart the kernel to use updated packages.\n"
     ]
    }
   ],
   "source": [
    "pip install PyPDF2"
   ]
  },
  {
   "cell_type": "code",
   "execution_count": 5,
   "id": "e4a6b3f0",
   "metadata": {},
   "outputs": [
    {
     "name": "stdout",
     "output_type": "stream",
     "text": [
      " A Simple PDF File \n",
      " This is a small demonstration .pdf file - \n",
      " just for use in the Virtual Mechanics tutorials. More text. And more \n",
      " text. And more text. And more text. And more text. \n",
      " And more text. And more text. And more text. And more text. And more \n",
      " text. And more text. Boring, zzzzz. And more text. And more text. And \n",
      " more text. And more text. And more text. And more text. And more text. \n",
      " And more text. And more text. \n",
      " And more text. And more text. And more text. And more text. And more \n",
      " text. And more text. And more text. Even more. Continued on page 2 ...\n"
     ]
    }
   ],
   "source": [
    "from PyPDF2 import PdfReader\n",
    "reader=PdfReader(\"sample.pdf\")\n",
    "page=reader.pages[0]\n",
    "text=page.extract_text()\n",
    "print(text)"
   ]
  },
  {
   "cell_type": "markdown",
   "id": "8cb9c9bb",
   "metadata": {},
   "source": [
    "## Reading contents  from web pages"
   ]
  },
  {
   "cell_type": "code",
   "execution_count": 6,
   "id": "0c6d13d1",
   "metadata": {},
   "outputs": [],
   "source": [
    "import requests\n",
    "from bs4 import BeautifulSoup"
   ]
  },
  {
   "cell_type": "code",
   "execution_count": 7,
   "id": "352abea6",
   "metadata": {},
   "outputs": [
    {
     "data": {
      "text/plain": [
       "'This Python Tutorial is very well suited for Beginners, and also for experienced programmers with other programming languages like C++ and Java. This specially designed free Python tutorial will help you learn Python Programming Language in the most efficient way, with topics from basics to advanced (like Web-scraping, Django, Deep-Learning, etc.) with examples. Python is a high-level, general-purpose, and very popular programming language. Python programming language (latest Python 3) is being used in web development, Machine Learning applications, along with all cutting-edge technology in Software Industry.  Python language is being used by almost all tech-giant companies like – Google, Amazon, Facebook, Instagram, Dropbox, Uber… etc.The biggest strength of Python is huge collection of standard library which can be used for the following:Python is currently the most widely used multi-purpose, high-level programming language, which allows programming in Object-Oriented and Procedural paradigms. Python programs are generally smaller than other programming languages like Java. Programmers have to type relatively less and the indentation requirement of the language, makes them readable all the time.Here are the important topics that come under Python. After completing all the important topics in this free tutorial for Python, you’ll have a basic understanding of the Python programming language:-  \\n \\n  \\n  \\n  \\n  \\n   \\n  \\n  \\n  \\n  \\n  \\n  \\n  \\n  \\n Also, checkTo achieve a solid understanding of Python, it’s very important to engage with Python quizzes and MCQs. These quizzes can enhance your ability to solve similar questions and improve your problem-solving skills. Here are some quiz articles related to Python:Python is the most in-demand programming language in 2024, with companies of all sizes hiring for Python programmers to develop websites, software, and applications, as well as to work on data science, AI, and machine learning technologies. There is a high shortage of Python programmers, and those with 3-5 years of experience can command salaries of around $150,000 per year in the United States.Here is a list of companies that are hiring Python programmers:If you are a Python developer, you are in high demand. There are many jobs available in the current IT/Software development market for freshers who know Python well.There are two ways you can execute your Python program. first, we write a program in a file and run it one time. Second, run a code line by line. Here we provided the latest Python 3 version compiler where you can edit and compile your written code directly with just one click of the RUN Button.“Give this Python code a try, and here’s a fun challenge: print ‘Hello World’ along with your name!”There is a wide range of applications that Python can be used for.Here are some of the trending Python applications in 2024:Note: These latest applications are all still under development, but they show the potential of Python for creating new and innovative applications. Readers of this beginner’s Python tutorial are expected to have a reasonable familiarity with programming environments and basic concepts such as variables, commands, and syntax.Python’s reputation for ease of use stems from its clear, English-like syntax, intuitive structure, and emphasis on readability. It prioritizes simplicity and clarity, making it approachable for beginners and experienced programmers alike. Yes, it is possible to learn Python in a month. However, it will depend on how much time you can dedicate to learning the language and how quickly you can grasp new concepts.Well, to become a proficient in Python programming language, it will take around a year. And it will totally depends on your programming skills and understanding. To start Python programming you can follow below steps:\\nHere’s a comprehensive overview of Python’s diverse applications:'"
      ]
     },
     "execution_count": 7,
     "metadata": {},
     "output_type": "execute_result"
    }
   ],
   "source": [
    "r = requests.get('https://www.geeksforgeeks.org/python-programming-language/') \n",
    "soup = BeautifulSoup(r.content, 'html.parser')\n",
    "soup = BeautifulSoup(r.content, 'html.parser') \n",
    "s = soup.find('div', class_='entry-content') \n",
    "lines = s.find_all('p')\n",
    "ss=\"\"\n",
    "for line in lines:\n",
    "    '''if '\\n' in str(line.text) :\n",
    "        ll=str(line.text).split()\n",
    "        #print(ll)\n",
    "        #ll.remove('\\n')'''\n",
    "    ss+=str(line.text)\n",
    "ss"
   ]
  },
  {
   "cell_type": "markdown",
   "id": "3dca1c59",
   "metadata": {},
   "source": [
    "## Reading text from images"
   ]
  },
  {
   "cell_type": "code",
   "execution_count": 29,
   "id": "a68d34ec",
   "metadata": {},
   "outputs": [
    {
     "name": "stdout",
     "output_type": "stream",
     "text": [
      "Collecting pytesseract\n",
      "  Downloading pytesseract-0.3.10-py3-none-any.whl (14 kB)\n",
      "Requirement already satisfied: packaging>=21.3 in c:\\users\\shahana s\\anaconda3\\lib\\site-packages (from pytesseract) (23.0)\n",
      "Requirement already satisfied: Pillow>=8.0.0 in c:\\users\\shahana s\\anaconda3\\lib\\site-packages (from pytesseract) (9.4.0)\n",
      "Installing collected packages: pytesseract\n",
      "Successfully installed pytesseract-0.3.10\n",
      "Note: you may need to restart the kernel to use updated packages.\n"
     ]
    }
   ],
   "source": [
    "pip install pytesseract"
   ]
  },
  {
   "cell_type": "code",
   "execution_count": 30,
   "id": "95291ba1",
   "metadata": {},
   "outputs": [],
   "source": [
    "from PIL import Image\n",
    "from pytesseract import pytesseract"
   ]
  },
  {
   "cell_type": "code",
   "execution_count": 39,
   "id": "502ab81a",
   "metadata": {},
   "outputs": [
    {
     "name": "stdout",
     "output_type": "stream",
     "text": [
      "now children state should after above same long made such\n",
      "\n",
      "point run take call together few being would walk give\n"
     ]
    },
    {
     "data": {
      "text/plain": [
       "'now children state should after above same long made such\\n\\npoint run take call together few being would walk give\\n'"
      ]
     },
     "execution_count": 39,
     "metadata": {},
     "output_type": "execute_result"
    }
   ],
   "source": [
    "img=Image.open(\"sampletext-660x75.png\")\n",
    "#path_to_tesseract = r\"C:\\Program Files\\Tesseract-OCR\\tesseract.exe\"\n",
    "path_to_tesseract =r\"C:\\Users\\Shahana S\\AppData\\Local\\Programs\\Tesseract-OCR\\tesseract.exe\"\n",
    "image_path = r\"sampletext-660x75.png\"\n",
    "  \n",
    "# Opening the image & storing it in an image object \n",
    "img = Image.open(image_path) \n",
    "  \n",
    "# Providing the tesseract executable \n",
    "# location to pytesseract library \n",
    "pytesseract.tesseract_cmd = path_to_tesseract \n",
    "  \n",
    "# Passing the image object to image_to_string() function \n",
    "# This function will extract the text from the image \n",
    "text = pytesseract.image_to_string(img) \n",
    "  \n",
    "# Displaying the extracted text \n",
    "print(text[:-1])\n",
    "text"
   ]
  },
  {
   "cell_type": "markdown",
   "id": "bb9e7cee",
   "metadata": {},
   "source": [
    "## Finding probabilty of each word"
   ]
  },
  {
   "cell_type": "code",
   "execution_count": 9,
   "id": "a0d2189a",
   "metadata": {},
   "outputs": [
    {
     "data": {
      "text/plain": [
       "['A',\n",
       " 'Simple',\n",
       " 'PDF',\n",
       " 'File',\n",
       " 'This',\n",
       " 'is',\n",
       " 'a',\n",
       " 'small',\n",
       " 'demonstration',\n",
       " '.',\n",
       " 'pdf',\n",
       " 'file',\n",
       " '-',\n",
       " 'just',\n",
       " 'for',\n",
       " 'use',\n",
       " 'in',\n",
       " 'the',\n",
       " 'Virtual',\n",
       " 'Mechanics',\n",
       " 'tutorials',\n",
       " '.',\n",
       " 'More',\n",
       " 'text',\n",
       " '.',\n",
       " 'And',\n",
       " 'more',\n",
       " 'text',\n",
       " '.',\n",
       " 'And',\n",
       " 'more',\n",
       " 'text',\n",
       " '.',\n",
       " 'And',\n",
       " 'more',\n",
       " 'text',\n",
       " '.',\n",
       " 'And',\n",
       " 'more',\n",
       " 'text',\n",
       " '.',\n",
       " 'And',\n",
       " 'more',\n",
       " 'text',\n",
       " '.',\n",
       " 'And',\n",
       " 'more',\n",
       " 'text',\n",
       " '.',\n",
       " 'And',\n",
       " 'more',\n",
       " 'text',\n",
       " '.',\n",
       " 'And',\n",
       " 'more',\n",
       " 'text',\n",
       " '.',\n",
       " 'And',\n",
       " 'more',\n",
       " 'text',\n",
       " '.',\n",
       " 'And',\n",
       " 'more',\n",
       " 'text',\n",
       " '.',\n",
       " 'Boring',\n",
       " ',',\n",
       " 'zzzzz',\n",
       " '.',\n",
       " 'And',\n",
       " 'more',\n",
       " 'text',\n",
       " '.',\n",
       " 'And',\n",
       " 'more',\n",
       " 'text',\n",
       " '.',\n",
       " 'And',\n",
       " 'more',\n",
       " 'text',\n",
       " '.',\n",
       " 'And',\n",
       " 'more',\n",
       " 'text',\n",
       " '.',\n",
       " 'And',\n",
       " 'more',\n",
       " 'text',\n",
       " '.',\n",
       " 'And',\n",
       " 'more',\n",
       " 'text',\n",
       " '.',\n",
       " 'And',\n",
       " 'more',\n",
       " 'text',\n",
       " '.',\n",
       " 'And',\n",
       " 'more',\n",
       " 'text',\n",
       " '.',\n",
       " 'And',\n",
       " 'more',\n",
       " 'text',\n",
       " '.',\n",
       " 'And',\n",
       " 'more',\n",
       " 'text',\n",
       " '.',\n",
       " 'And',\n",
       " 'more',\n",
       " 'text',\n",
       " '.',\n",
       " 'And',\n",
       " 'more',\n",
       " 'text',\n",
       " '.',\n",
       " 'And',\n",
       " 'more',\n",
       " 'text',\n",
       " '.',\n",
       " 'And',\n",
       " 'more',\n",
       " 'text',\n",
       " '.',\n",
       " 'And',\n",
       " 'more',\n",
       " 'text',\n",
       " '.',\n",
       " 'And',\n",
       " 'more',\n",
       " 'text',\n",
       " '.',\n",
       " 'Even',\n",
       " 'more',\n",
       " '.',\n",
       " 'Continued',\n",
       " 'on',\n",
       " 'page',\n",
       " '2',\n",
       " '...']"
      ]
     },
     "execution_count": 9,
     "metadata": {},
     "output_type": "execute_result"
    }
   ],
   "source": [
    "from nltk.tokenize import WordPunctTokenizer\n",
    "word_obj=WordPunctTokenizer()\n",
    "tokens=word_obj.tokenize(text)\n",
    "tokens"
   ]
  },
  {
   "cell_type": "code",
   "execution_count": 10,
   "id": "16ebefdc",
   "metadata": {},
   "outputs": [
    {
     "data": {
      "text/plain": [
       "{'a',\n",
       " 'about',\n",
       " 'above',\n",
       " 'after',\n",
       " 'again',\n",
       " 'against',\n",
       " 'ain',\n",
       " 'all',\n",
       " 'am',\n",
       " 'an',\n",
       " 'and',\n",
       " 'any',\n",
       " 'are',\n",
       " 'aren',\n",
       " \"aren't\",\n",
       " 'as',\n",
       " 'at',\n",
       " 'be',\n",
       " 'because',\n",
       " 'been',\n",
       " 'before',\n",
       " 'being',\n",
       " 'below',\n",
       " 'between',\n",
       " 'both',\n",
       " 'but',\n",
       " 'by',\n",
       " 'can',\n",
       " 'couldn',\n",
       " \"couldn't\",\n",
       " 'd',\n",
       " 'did',\n",
       " 'didn',\n",
       " \"didn't\",\n",
       " 'do',\n",
       " 'does',\n",
       " 'doesn',\n",
       " \"doesn't\",\n",
       " 'doing',\n",
       " 'don',\n",
       " \"don't\",\n",
       " 'down',\n",
       " 'during',\n",
       " 'each',\n",
       " 'few',\n",
       " 'for',\n",
       " 'from',\n",
       " 'further',\n",
       " 'had',\n",
       " 'hadn',\n",
       " \"hadn't\",\n",
       " 'has',\n",
       " 'hasn',\n",
       " \"hasn't\",\n",
       " 'have',\n",
       " 'haven',\n",
       " \"haven't\",\n",
       " 'having',\n",
       " 'he',\n",
       " 'her',\n",
       " 'here',\n",
       " 'hers',\n",
       " 'herself',\n",
       " 'him',\n",
       " 'himself',\n",
       " 'his',\n",
       " 'how',\n",
       " 'i',\n",
       " 'if',\n",
       " 'in',\n",
       " 'into',\n",
       " 'is',\n",
       " 'isn',\n",
       " \"isn't\",\n",
       " 'it',\n",
       " \"it's\",\n",
       " 'its',\n",
       " 'itself',\n",
       " 'just',\n",
       " 'll',\n",
       " 'm',\n",
       " 'ma',\n",
       " 'me',\n",
       " 'mightn',\n",
       " \"mightn't\",\n",
       " 'more',\n",
       " 'most',\n",
       " 'mustn',\n",
       " \"mustn't\",\n",
       " 'my',\n",
       " 'myself',\n",
       " 'needn',\n",
       " \"needn't\",\n",
       " 'no',\n",
       " 'nor',\n",
       " 'not',\n",
       " 'now',\n",
       " 'o',\n",
       " 'of',\n",
       " 'off',\n",
       " 'on',\n",
       " 'once',\n",
       " 'only',\n",
       " 'or',\n",
       " 'other',\n",
       " 'our',\n",
       " 'ours',\n",
       " 'ourselves',\n",
       " 'out',\n",
       " 'over',\n",
       " 'own',\n",
       " 're',\n",
       " 's',\n",
       " 'same',\n",
       " 'shan',\n",
       " \"shan't\",\n",
       " 'she',\n",
       " \"she's\",\n",
       " 'should',\n",
       " \"should've\",\n",
       " 'shouldn',\n",
       " \"shouldn't\",\n",
       " 'so',\n",
       " 'some',\n",
       " 'such',\n",
       " 't',\n",
       " 'than',\n",
       " 'that',\n",
       " \"that'll\",\n",
       " 'the',\n",
       " 'their',\n",
       " 'theirs',\n",
       " 'them',\n",
       " 'themselves',\n",
       " 'then',\n",
       " 'there',\n",
       " 'these',\n",
       " 'they',\n",
       " 'this',\n",
       " 'those',\n",
       " 'through',\n",
       " 'to',\n",
       " 'too',\n",
       " 'under',\n",
       " 'until',\n",
       " 'up',\n",
       " 've',\n",
       " 'very',\n",
       " 'was',\n",
       " 'wasn',\n",
       " \"wasn't\",\n",
       " 'we',\n",
       " 'were',\n",
       " 'weren',\n",
       " \"weren't\",\n",
       " 'what',\n",
       " 'when',\n",
       " 'where',\n",
       " 'which',\n",
       " 'while',\n",
       " 'who',\n",
       " 'whom',\n",
       " 'why',\n",
       " 'will',\n",
       " 'with',\n",
       " 'won',\n",
       " \"won't\",\n",
       " 'wouldn',\n",
       " \"wouldn't\",\n",
       " 'y',\n",
       " 'you',\n",
       " \"you'd\",\n",
       " \"you'll\",\n",
       " \"you're\",\n",
       " \"you've\",\n",
       " 'your',\n",
       " 'yours',\n",
       " 'yourself',\n",
       " 'yourselves'}"
      ]
     },
     "execution_count": 10,
     "metadata": {},
     "output_type": "execute_result"
    }
   ],
   "source": [
    "from nltk.corpus import stopwords\n",
    "eng_stopwords=set(stopwords.words('english'))\n",
    "eng_stopwords"
   ]
  },
  {
   "cell_type": "code",
   "execution_count": 12,
   "id": "9db67bc7",
   "metadata": {},
   "outputs": [
    {
     "data": {
      "text/plain": [
       "['A',\n",
       " 'Simple',\n",
       " 'PDF',\n",
       " 'File',\n",
       " 'This',\n",
       " 'small',\n",
       " 'demonstration',\n",
       " '.',\n",
       " 'pdf',\n",
       " 'file',\n",
       " '-',\n",
       " 'use',\n",
       " 'Virtual',\n",
       " 'Mechanics',\n",
       " 'tutorials',\n",
       " '.',\n",
       " 'More',\n",
       " 'text',\n",
       " '.',\n",
       " 'And',\n",
       " 'text',\n",
       " '.',\n",
       " 'And',\n",
       " 'text',\n",
       " '.',\n",
       " 'And',\n",
       " 'text',\n",
       " '.',\n",
       " 'And',\n",
       " 'text',\n",
       " '.',\n",
       " 'And',\n",
       " 'text',\n",
       " '.',\n",
       " 'And',\n",
       " 'text',\n",
       " '.',\n",
       " 'And',\n",
       " 'text',\n",
       " '.',\n",
       " 'And',\n",
       " 'text',\n",
       " '.',\n",
       " 'And',\n",
       " 'text',\n",
       " '.',\n",
       " 'And',\n",
       " 'text',\n",
       " '.',\n",
       " 'Boring',\n",
       " ',',\n",
       " 'zzzzz',\n",
       " '.',\n",
       " 'And',\n",
       " 'text',\n",
       " '.',\n",
       " 'And',\n",
       " 'text',\n",
       " '.',\n",
       " 'And',\n",
       " 'text',\n",
       " '.',\n",
       " 'And',\n",
       " 'text',\n",
       " '.',\n",
       " 'And',\n",
       " 'text',\n",
       " '.',\n",
       " 'And',\n",
       " 'text',\n",
       " '.',\n",
       " 'And',\n",
       " 'text',\n",
       " '.',\n",
       " 'And',\n",
       " 'text',\n",
       " '.',\n",
       " 'And',\n",
       " 'text',\n",
       " '.',\n",
       " 'And',\n",
       " 'text',\n",
       " '.',\n",
       " 'And',\n",
       " 'text',\n",
       " '.',\n",
       " 'And',\n",
       " 'text',\n",
       " '.',\n",
       " 'And',\n",
       " 'text',\n",
       " '.',\n",
       " 'And',\n",
       " 'text',\n",
       " '.',\n",
       " 'And',\n",
       " 'text',\n",
       " '.',\n",
       " 'And',\n",
       " 'text',\n",
       " '.',\n",
       " 'Even',\n",
       " '.',\n",
       " 'Continued',\n",
       " 'page',\n",
       " '2',\n",
       " '...']"
      ]
     },
     "execution_count": 12,
     "metadata": {},
     "output_type": "execute_result"
    }
   ],
   "source": [
    "l=[token for token in tokens if token not in eng_stopwords] #After removing stop words\n",
    "l"
   ]
  },
  {
   "cell_type": "code",
   "execution_count": 13,
   "id": "42b9118d",
   "metadata": {},
   "outputs": [
    {
     "data": {
      "text/plain": [
       "{'This': 0.009345794392523364,\n",
       " 'tutorials': 0.009345794392523364,\n",
       " 'Simple': 0.009345794392523364,\n",
       " '2': 0.009345794392523364,\n",
       " '.': 0.2897196261682243,\n",
       " 'demonstration': 0.009345794392523364,\n",
       " 'pdf': 0.009345794392523364,\n",
       " 'Mechanics': 0.009345794392523364,\n",
       " 'And': 0.24299065420560748,\n",
       " '-': 0.009345794392523364,\n",
       " '...': 0.009345794392523364,\n",
       " 'Virtual': 0.009345794392523364,\n",
       " 'page': 0.009345794392523364,\n",
       " 'PDF': 0.009345794392523364,\n",
       " 'More': 0.009345794392523364,\n",
       " ',': 0.009345794392523364,\n",
       " 'zzzzz': 0.009345794392523364,\n",
       " 'use': 0.009345794392523364,\n",
       " 'A': 0.009345794392523364,\n",
       " 'text': 0.2523364485981308,\n",
       " 'Even': 0.009345794392523364,\n",
       " 'file': 0.009345794392523364,\n",
       " 'small': 0.009345794392523364,\n",
       " 'File': 0.009345794392523364,\n",
       " 'Boring': 0.009345794392523364,\n",
       " 'Continued': 0.009345794392523364}"
      ]
     },
     "execution_count": 13,
     "metadata": {},
     "output_type": "execute_result"
    }
   ],
   "source": [
    "d={}\n",
    "for word in set(l):\n",
    "    d[word]=l.count(word)/len(l)\n",
    "d"
   ]
  },
  {
   "cell_type": "markdown",
   "id": "4c0fbf5b",
   "metadata": {},
   "source": [
    "## Removing punctuations"
   ]
  },
  {
   "cell_type": "code",
   "execution_count": 16,
   "id": "b29620d7",
   "metadata": {},
   "outputs": [
    {
     "data": {
      "text/plain": [
       "'!\"#$%&\\'()*+,-./:;<=>?@[\\\\]^_`{|}~'"
      ]
     },
     "execution_count": 16,
     "metadata": {},
     "output_type": "execute_result"
    }
   ],
   "source": [
    "import string\n",
    "string.punctuation\n"
   ]
  },
  {
   "cell_type": "code",
   "execution_count": 18,
   "id": "c7ba4b34",
   "metadata": {},
   "outputs": [
    {
     "data": {
      "text/plain": [
       "['!',\n",
       " '\"',\n",
       " '#',\n",
       " '$',\n",
       " '%',\n",
       " '&',\n",
       " \"'\",\n",
       " '(',\n",
       " ')',\n",
       " '*',\n",
       " '+',\n",
       " ',',\n",
       " '-',\n",
       " '.',\n",
       " '/',\n",
       " ':',\n",
       " ';',\n",
       " '<',\n",
       " '=',\n",
       " '>',\n",
       " '?',\n",
       " '@',\n",
       " '[',\n",
       " '\\\\',\n",
       " ']',\n",
       " '^',\n",
       " '_',\n",
       " '`',\n",
       " '{',\n",
       " '|',\n",
       " '}',\n",
       " '~']"
      ]
     },
     "execution_count": 18,
     "metadata": {},
     "output_type": "execute_result"
    }
   ],
   "source": [
    "regular_punct = list(string.punctuation)\n",
    "regular_punct"
   ]
  },
  {
   "cell_type": "code",
   "execution_count": 26,
   "id": "7fbff710",
   "metadata": {},
   "outputs": [],
   "source": [
    "def punct_removal(regular_punct,ss):\n",
    "    for punc in regular_punct:\n",
    "        if punc in ss:\n",
    "            ss = ss.replace(punc, ' ')\n",
    "    return ss.strip()"
   ]
  },
  {
   "cell_type": "code",
   "execution_count": 27,
   "id": "dab85e13",
   "metadata": {},
   "outputs": [
    {
     "data": {
      "text/plain": [
       "'This Python Tutorial is very well suited for Beginners  and also for experienced programmers with other programming languages like C   and Java  This specially designed free Python tutorial will help you learn Python Programming Language in the most efficient way  with topics from basics to advanced  like Web scraping  Django  Deep Learning  etc   with examples  Python is a high level  general purpose  and very popular programming language  Python programming language  latest Python 3  is being used in web development  Machine Learning applications  along with all cutting edge technology in Software Industry   Python language is being used by almost all tech giant companies like – Google  Amazon  Facebook  Instagram  Dropbox  Uber… etc The biggest strength of Python is huge collection of standard library which can be used for the following Python is currently the most widely used multi purpose  high level programming language  which allows programming in Object Oriented and Procedural paradigms  Python programs are generally smaller than other programming languages like Java  Programmers have to type relatively less and the indentation requirement of the language  makes them readable all the time Here are the important topics that come under Python  After completing all the important topics in this free tutorial for Python  you’ll have a basic understanding of the Python programming language    \\n \\n  \\n  \\n  \\n  \\n   \\n  \\n  \\n  \\n  \\n  \\n  \\n  \\n  \\n Also  checkTo achieve a solid understanding of Python  it’s very important to engage with Python quizzes and MCQs  These quizzes can enhance your ability to solve similar questions and improve your problem solving skills  Here are some quiz articles related to Python Python is the most in demand programming language in 2024  with companies of all sizes hiring for Python programmers to develop websites  software  and applications  as well as to work on data science  AI  and machine learning technologies  There is a high shortage of Python programmers  and those with 3 5 years of experience can command salaries of around  150 000 per year in the United States Here is a list of companies that are hiring Python programmers If you are a Python developer  you are in high demand  There are many jobs available in the current IT Software development market for freshers who know Python well There are two ways you can execute your Python program  first  we write a program in a file and run it one time  Second  run a code line by line  Here we provided the latest Python 3 version compiler where you can edit and compile your written code directly with just one click of the RUN Button “Give this Python code a try  and here’s a fun challenge  print ‘Hello World’ along with your name ”There is a wide range of applications that Python can be used for Here are some of the trending Python applications in 2024 Note  These latest applications are all still under development  but they show the potential of Python for creating new and innovative applications  Readers of this beginner’s Python tutorial are expected to have a reasonable familiarity with programming environments and basic concepts such as variables  commands  and syntax Python’s reputation for ease of use stems from its clear  English like syntax  intuitive structure  and emphasis on readability  It prioritizes simplicity and clarity  making it approachable for beginners and experienced programmers alike  Yes  it is possible to learn Python in a month  However  it will depend on how much time you can dedicate to learning the language and how quickly you can grasp new concepts Well  to become a proficient in Python programming language  it will take around a year  And it will totally depends on your programming skills and understanding  To start Python programming you can follow below steps \\nHere’s a comprehensive overview of Python’s diverse applications'"
      ]
     },
     "execution_count": 27,
     "metadata": {},
     "output_type": "execute_result"
    }
   ],
   "source": [
    "punct_removal(regular_punct,ss)"
   ]
  },
  {
   "cell_type": "code",
   "execution_count": 28,
   "id": "965bca6e",
   "metadata": {},
   "outputs": [
    {
     "data": {
      "text/plain": [
       "'Good Morning How are you'"
      ]
     },
     "execution_count": 28,
     "metadata": {},
     "output_type": "execute_result"
    }
   ],
   "source": [
    "punct_removal(regular_punct,\" Good Morning!How are you? \")"
   ]
  },
  {
   "cell_type": "code",
   "execution_count": null,
   "id": "f691b1ec",
   "metadata": {},
   "outputs": [],
   "source": []
  }
 ],
 "metadata": {
  "kernelspec": {
   "display_name": "Python 3 (ipykernel)",
   "language": "python",
   "name": "python3"
  },
  "language_info": {
   "codemirror_mode": {
    "name": "ipython",
    "version": 3
   },
   "file_extension": ".py",
   "mimetype": "text/x-python",
   "name": "python",
   "nbconvert_exporter": "python",
   "pygments_lexer": "ipython3",
   "version": "3.11.3"
  }
 },
 "nbformat": 4,
 "nbformat_minor": 5
}
